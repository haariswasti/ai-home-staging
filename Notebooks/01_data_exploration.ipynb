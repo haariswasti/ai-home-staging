{
 "cells": [
  {
   "cell_type": "code",
   "execution_count": null,
   "id": "574463df",
   "metadata": {
    "vscode": {
     "languageId": "plaintext"
    }
   },
   "outputs": [],
   "source": [
    "import os\n",
    "import cv2\n",
    "import matplotlib.pyplot as plt\n",
    "\n",
    "# Paths (adjust if your repo root is elsewhere)\n",
    "empty_dir  = \"../data/empty_bedroom\"\n",
    "staged_dir = \"../data/staged_bedroom\"\n",
    "\n",
    "# Grab first 3 of each\n",
    "empty_imgs  = os.listdir(empty_dir)[:3]\n",
    "staged_imgs = os.listdir(staged_dir)[:3]\n",
    "\n",
    "# Plot\n",
    "fig, axes = plt.subplots(2, 3, figsize=(12, 6))\n",
    "for i, fn in enumerate(empty_imgs):\n",
    "    img = cv2.cvtColor(cv2.imread(os.path.join(empty_dir, fn)), cv2.COLOR_BGR2RGB)\n",
    "    axes[0, i].imshow(img)\n",
    "    axes[0, i].axis(\"off\")\n",
    "    axes[0, i].set_title(\"Empty\")\n",
    "\n",
    "for i, fn in enumerate(staged_imgs):\n",
    "    img = cv2.cvtColor(cv2.imread(os.path.join(staged_dir, fn)), cv2.COLOR_BGR2RGB)\n",
    "    axes[1, i].imshow(img)\n",
    "    axes[1, i].axis(\"off\")\n",
    "    axes[1, i].set_title(\"Staged\")\n",
    "\n",
    "plt.tight_layout()"
   ]
  }
 ],
 "metadata": {
  "kernelspec": {
   "display_name": "Python 3 (ipykernel)",
   "language": "python",
   "name": "python3"
  },
  "language_info": {
   "codemirror_mode": {
    "name": "ipython",
    "version": 3
   },
   "file_extension": ".py",
   "mimetype": "text/x-python",
   "name": "python",
   "nbconvert_exporter": "python",
   "pygments_lexer": "ipython3",
   "version": "3.11.9"
  }
 },
 "nbformat": 4,
 "nbformat_minor": 5
}
