{
 "cells": [
  {
   "cell_type": "markdown",
   "id": "478c937e",
   "metadata": {},
   "source": [
    "# AI Home Staging - Retrieval Demo\n",
    "\n",
    "This notebook demonstrates the image retrieval system for AI home staging, where we find similar staged bedroom designs based on an empty bedroom image."
   ]
  },
  {
   "cell_type": "code",
   "execution_count": 1,
   "id": "eea273e6",
   "metadata": {},
   "outputs": [
    {
     "name": "stdout",
     "output_type": "stream",
     "text": [
      "✅ Successfully imported all modules!\n",
      "📁 Current working directory: C:\\Users\\haari\\STAGING WORK\\ai-home-staging\\Notebooks\n",
      "🐍 Python path includes: C:\\Users\\haari\\STAGING WORK\\ai-home-staging\n"
     ]
    }
   ],
   "source": [
    "# Fix the module import issue by adding parent directory to Python path\n",
    "import sys\n",
    "import os\n",
    "sys.path.append(os.path.dirname(os.getcwd()))\n",
    "\n",
    "import numpy as np\n",
    "import torch\n",
    "from src.data_loader import load_image\n",
    "from src.feature_extractor import FeatureExtractor\n",
    "from src.retrieval import retrieve\n",
    "\n",
    "print(\"✅ Successfully imported all modules!\")\n",
    "print(f\"📁 Current working directory: {os.getcwd()}\")\n",
    "print(f\"🐍 Python path includes: {sys.path[-1]}\")"
   ]
  },
  {
   "cell_type": "code",
   "execution_count": 2,
   "id": "56d82c16",
   "metadata": {},
   "outputs": [
    {
     "name": "stdout",
     "output_type": "stream",
     "text": [
      "🔍 Checking for model files...\n",
      "   staged_embs.npy exists: True\n",
      "   staged_names.npy exists: True\n",
      "✅ Loaded 2 staged embeddings\n",
      "✅ Loaded 2 staged image names\n"
     ]
    }
   ],
   "source": [
    "# Check if model files exist\n",
    "models_dir = \"../models\"\n",
    "staged_embs_path = os.path.join(models_dir, \"staged_embs.npy\")\n",
    "staged_names_path = os.path.join(models_dir, \"staged_names.npy\")\n",
    "\n",
    "print(f\"🔍 Checking for model files...\")\n",
    "print(f\"   staged_embs.npy exists: {os.path.exists(staged_embs_path)}\")\n",
    "print(f\"   staged_names.npy exists: {os.path.exists(staged_names_path)}\")\n",
    "\n",
    "# Load models & data if they exist\n",
    "if os.path.exists(staged_embs_path) and os.path.exists(staged_names_path):\n",
    "    staged_embs = np.load(staged_embs_path)\n",
    "    staged_names = np.load(staged_names_path)\n",
    "    print(f\"✅ Loaded {len(staged_embs)} staged embeddings\")\n",
    "    print(f\"✅ Loaded {len(staged_names)} staged image names\")\n",
    "else:\n",
    "    print(\"⚠️  Model files not found. You may need to run the embedding generation first.\")\n",
    "    staged_embs = None\n",
    "    staged_names = None"
   ]
  },
  {
   "cell_type": "code",
   "execution_count": 3,
   "id": "da6b2a8c",
   "metadata": {},
   "outputs": [
    {
     "name": "stdout",
     "output_type": "stream",
     "text": [
      "🤖 Initializing FeatureExtractor model...\n",
      "✅ Model initialized successfully!\n",
      "🧪 Model test output shape: torch.Size([1, 2048])\n"
     ]
    }
   ],
   "source": [
    "# Initialize the feature extractor model\n",
    "print(\"🤖 Initializing FeatureExtractor model...\")\n",
    "model = FeatureExtractor()\n",
    "model.eval()\n",
    "print(\"✅ Model initialized successfully!\")\n",
    "\n",
    "# Test the model with a dummy input\n",
    "with torch.no_grad():\n",
    "    dummy_input = torch.randn(1, 3, 256, 256)\n",
    "    dummy_output = model(dummy_input)\n",
    "    print(f\"🧪 Model test output shape: {dummy_output.shape}\")"
   ]
  },
  {
   "cell_type": "code",
   "execution_count": 4,
   "id": "005b9a27",
   "metadata": {},
   "outputs": [
    {
     "name": "stdout",
     "output_type": "stream",
     "text": [
      "🔍 Checking for query image: ../data/empty bedroom/IMG_0938.jpeg\n",
      "   Image exists: True\n",
      "📸 Loading query image...\n",
      "   Image shape: torch.Size([1, 3, 256, 256])\n",
      "🔍 Extracting features from query image...\n",
      "   Query embedding shape: (1, 2048)\n",
      "🔍 Performing similarity search...\n",
      "\n",
      "🏆 Top 3 matches:\n",
      "   1. IMG_4396.jpeg (similarity: 0.8182)\n",
      "   2. IMG_4398.jpeg (similarity: 0.8075)\n"
     ]
    }
   ],
   "source": [
    "# Check if query image exists\n",
    "query_image_path = \"../data/empty bedroom/IMG_0938.jpeg\"\n",
    "print(f\"🔍 Checking for query image: {query_image_path}\")\n",
    "print(f\"   Image exists: {os.path.exists(query_image_path)}\")\n",
    "\n",
    "if os.path.exists(query_image_path) and staged_embs is not None:\n",
    "    # Load and process the query image\n",
    "    print(\"📸 Loading query image...\")\n",
    "    img = load_image(query_image_path).unsqueeze(0)\n",
    "    print(f\"   Image shape: {img.shape}\")\n",
    "    \n",
    "    # Extract features from the query image\n",
    "    print(\"🔍 Extracting features from query image...\")\n",
    "    with torch.no_grad():\n",
    "        q_emb = model(img).cpu().numpy()\n",
    "    print(f\"   Query embedding shape: {q_emb.shape}\")\n",
    "    \n",
    "    # Perform retrieval\n",
    "    print(\"🔍 Performing similarity search...\")\n",
    "    idxs, sims = retrieve(q_emb, staged_embs, top_k=3)\n",
    "    \n",
    "    print(\"\\n🏆 Top 3 matches:\")\n",
    "    for i, (idx, sim) in enumerate(zip(idxs, sims)):\n",
    "        print(f\"   {i+1}. {staged_names[idx]} (similarity: {sim:.4f})\")\n",
    "else:\n",
    "    print(\"⚠️  Cannot perform retrieval - missing query image or model files\")"
   ]
  },
  {
   "cell_type": "code",
   "execution_count": null,
   "id": "d4f90c13-52c5-4d72-9352-85cd6d6821ff",
   "metadata": {},
   "outputs": [],
   "source": []
  },
  {
   "cell_type": "code",
   "execution_count": null,
   "id": "f26bb81b-0ee5-4938-bdc0-d847c4561475",
   "metadata": {},
   "outputs": [],
   "source": []
  },
  {
   "cell_type": "code",
   "execution_count": null,
   "id": "6138c5f4-62e5-4e78-b89a-0628cd501e7c",
   "metadata": {},
   "outputs": [],
   "source": []
  }
 ],
 "metadata": {
  "kernelspec": {
   "display_name": "Python 3 (ipykernel)",
   "language": "python",
   "name": "python3"
  },
  "language_info": {
   "codemirror_mode": {
    "name": "ipython",
    "version": 3
   },
   "file_extension": ".py",
   "mimetype": "text/x-python",
   "name": "python",
   "nbconvert_exporter": "python",
   "pygments_lexer": "ipython3",
   "version": "3.11.9"
  }
 },
 "nbformat": 4,
 "nbformat_minor": 5
}
